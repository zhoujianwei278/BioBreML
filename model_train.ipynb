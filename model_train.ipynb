{
 "cells": [
  {
   "cell_type": "code",
   "execution_count": 1,
   "id": "030cb030-f976-416e-94da-b2cd95456fa8",
   "metadata": {},
   "outputs": [],
   "source": [
    "import pandas as pd\n",
    "import numpy as np\n",
    "from sklearn.metrics import accuracy_score, precision_score, recall_score, roc_auc_score, f1_score\n",
    "from sklearn.model_selection import train_test_split\n",
    "from sklearn.model_selection import GridSearchCV\n",
    "from sklearn.model_selection import KFold, cross_val_score as CVS, train_test_split as TTS\n",
    "from sklearn.preprocessing import StandardScaler\n",
    "import lightgbm as lgb\n",
    "import os"
   ]
  },
  {
   "cell_type": "code",
   "execution_count": null,
   "id": "a409ebb4-201e-4539-b9e7-de8c6e5546e3",
   "metadata": {},
   "outputs": [],
   "source": []
  },
  {
   "cell_type": "code",
   "execution_count": null,
   "id": "e89cead0-0c19-4d57-870e-c1a43aeaeede",
   "metadata": {},
   "outputs": [],
   "source": [
    "os.chdir(\"./data/\")"
   ]
  },
  {
   "cell_type": "code",
   "execution_count": null,
   "id": "14675618-3ea8-4009-9cfc-d30785a5e67f",
   "metadata": {},
   "outputs": [],
   "source": [
    "X_train = pd.read_csv('X_train.csv', delimiter=',', encoding='utf-8')\n",
    "X_test = pd.read_csv('X_test.csv', delimiter=',', encoding='utf-8')\n",
    "y_train = pd.read_csv('y_train.csv', delimiter=',', encoding='utf-8')\n",
    "y_test = pd.read_csv('y_test.csv', delimiter=',', encoding='utf-8')"
   ]
  },
  {
   "cell_type": "code",
   "execution_count": null,
   "id": "a1b182b3-c8bf-468b-af47-cd77d29450fe",
   "metadata": {},
   "outputs": [],
   "source": []
  },
  {
   "cell_type": "code",
   "execution_count": null,
   "id": "e4db2071-a257-4bf0-8ed3-b2172097338e",
   "metadata": {},
   "outputs": [],
   "source": [
    "X_train = np.array(X_train)\n",
    "X_test = np.array(X_test)\n",
    "y_train = np.array(y_train).ravel()\n",
    "y_test = np.array(y_test).ravel()"
   ]
  },
  {
   "cell_type": "code",
   "execution_count": null,
   "id": "1fd0a9ef-b4a0-437a-ae4e-09e1ef0198b0",
   "metadata": {},
   "outputs": [],
   "source": []
  },
  {
   "cell_type": "code",
   "execution_count": null,
   "id": "7b25533a-7ddb-4169-8ea3-f62a7e9b216c",
   "metadata": {},
   "outputs": [],
   "source": [
    "parameters = {'max_depth': [4, 6, 8],\n",
    "              'num_leaves': [20, 30, 40],\n",
    "              'min_child_samples': [18, 19, 20, 21, 22],\n",
    "              'min_child_weight': [0.001, 0.002],\n",
    "              'bagging_fraction': [0.8, 0.9, 1],\n",
    "              }"
   ]
  },
  {
   "cell_type": "code",
   "execution_count": null,
   "id": "27e26922-1f37-4121-b07e-0e3c7ab19720",
   "metadata": {},
   "outputs": [],
   "source": []
  },
  {
   "cell_type": "code",
   "execution_count": null,
   "id": "69bf19bf-63d2-4fc7-8d80-6075f0c94827",
   "metadata": {},
   "outputs": [],
   "source": [
    "gbm = lgb.LGBMClassifier(objective='multiclass',\n",
    "                         metric='multiclass',\n",
    "                         max_depth=6,\n",
    "                         num_leaves=40,\n",
    "                         learning_rate=0.1,\n",
    "                         feature_fraction=0.7,\n",
    "                         min_child_samples=21,\n",
    "                         min_child_weight=0.001,\n",
    "                         bagging_fraction=1,\n",
    "                         bagging_freq=2,\n",
    "                         reg_alpha=0.01,\n",
    "                         reg_lambda=8,\n",
    "                         )"
   ]
  },
  {
   "cell_type": "code",
   "execution_count": null,
   "id": "d70f6201-f4a7-4128-841d-41f4b365db1c",
   "metadata": {},
   "outputs": [],
   "source": []
  },
  {
   "cell_type": "code",
   "execution_count": null,
   "id": "47e0dbdc-9fcb-496a-8e5c-f24d2f1668bb",
   "metadata": {},
   "outputs": [],
   "source": [
    "optimal_model = GridSearchCV(gbm, parameters, cv=5,\n",
    "                       scoring=\"accuracy\", return_train_score=False, n_jobs=-1)"
   ]
  },
  {
   "cell_type": "code",
   "execution_count": null,
   "id": "855fb43d-302a-450c-bd2d-e690232efda1",
   "metadata": {},
   "outputs": [],
   "source": []
  },
  {
   "cell_type": "code",
   "execution_count": null,
   "id": "0d377263-c92e-4598-adce-65dc1ccf2ca3",
   "metadata": {},
   "outputs": [],
   "source": [
    "optimal_model.fit(X_train, y_train)"
   ]
  },
  {
   "cell_type": "code",
   "execution_count": null,
   "id": "1fd9a9c2-e885-47c7-97c4-8bf1de361608",
   "metadata": {},
   "outputs": [],
   "source": [
    "train_accuracy = optimal_model.best_score_"
   ]
  },
  {
   "cell_type": "code",
   "execution_count": null,
   "id": "e9dfd98a-1c09-4c98-bbc3-f1671039d251",
   "metadata": {},
   "outputs": [],
   "source": [
    "predict_test = optimal_model.predict(X_test)"
   ]
  },
  {
   "cell_type": "code",
   "execution_count": null,
   "id": "f5401d48-de20-446c-8ec7-79395083817e",
   "metadata": {},
   "outputs": [],
   "source": [
    "test_accuracy = accuracy_score(y_test, predict_test)"
   ]
  },
  {
   "cell_type": "code",
   "execution_count": null,
   "id": "4ff050cb-f0a5-44ed-a012-5e6e1ce6e179",
   "metadata": {},
   "outputs": [],
   "source": []
  },
  {
   "cell_type": "code",
   "execution_count": null,
   "id": "d786307b-1828-45cb-984c-513b47548801",
   "metadata": {},
   "outputs": [],
   "source": []
  },
  {
   "cell_type": "code",
   "execution_count": null,
   "id": "ff9d0e31-fd4c-4410-ba7b-b35bc3dfe927",
   "metadata": {},
   "outputs": [],
   "source": []
  },
  {
   "cell_type": "code",
   "execution_count": null,
   "id": "63460456-1909-40e8-be5a-2ec04525ab83",
   "metadata": {},
   "outputs": [],
   "source": []
  },
  {
   "cell_type": "code",
   "execution_count": null,
   "id": "a4779019-b01c-440b-b3fa-bcec69ce9c9d",
   "metadata": {},
   "outputs": [],
   "source": []
  },
  {
   "cell_type": "code",
   "execution_count": null,
   "id": "d536e52f-62d2-4392-b998-da3359c42ade",
   "metadata": {},
   "outputs": [],
   "source": []
  },
  {
   "cell_type": "code",
   "execution_count": null,
   "id": "95b479bb-e913-417b-ba90-eeb232889817",
   "metadata": {},
   "outputs": [],
   "source": []
  }
 ],
 "metadata": {
  "kernelspec": {
   "display_name": "Python [conda env:torch]",
   "language": "python",
   "name": "conda-env-torch-py"
  },
  "language_info": {
   "codemirror_mode": {
    "name": "ipython",
    "version": 3
   },
   "file_extension": ".py",
   "mimetype": "text/x-python",
   "name": "python",
   "nbconvert_exporter": "python",
   "pygments_lexer": "ipython3",
   "version": "3.8.15"
  }
 },
 "nbformat": 4,
 "nbformat_minor": 5
}
